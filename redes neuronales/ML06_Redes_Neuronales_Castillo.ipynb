{
  "nbformat": 4,
  "nbformat_minor": 0,
  "metadata": {
    "colab": {
      "provenance": []
    },
    "kernelspec": {
      "name": "python3",
      "display_name": "Python 3"
    },
    "language_info": {
      "name": "python"
    }
  },
  "cells": [
    {
      "cell_type": "code",
      "execution_count": 1,
      "metadata": {
        "colab": {
          "base_uri": "https://localhost:8080/"
        },
        "id": "Gi8bmajK91Ym",
        "outputId": "e3e37dd3-110a-42dc-e42b-2b3e2524b375"
      },
      "outputs": [
        {
          "output_type": "stream",
          "name": "stdout",
          "text": [
            "Colab only includes TensorFlow 2.x; %tensorflow_version has no effect.\n",
            "2.13.0\n"
          ]
        }
      ],
      "source": [
        "%tensorflow_version 2.x\n",
        "import tensorflow as tf\n",
        "print (tf.__version__)"
      ]
    },
    {
      "cell_type": "code",
      "source": [
        "from google.colab import drive\n",
        "drive.mount('/content/drive')\n"
      ],
      "metadata": {
        "colab": {
          "base_uri": "https://localhost:8080/"
        },
        "id": "E4ZoibGp-W1r",
        "outputId": "161b4bef-9e01-44ca-f9b7-eba56062f1e5"
      },
      "execution_count": 2,
      "outputs": [
        {
          "output_type": "stream",
          "name": "stdout",
          "text": [
            "Mounted at /content/drive\n"
          ]
        }
      ]
    },
    {
      "cell_type": "code",
      "source": [
        "%%bash\n",
        "MYPROJECT=\"/content/drive/MyDrivr/Colab Notebooks\"\n",
        "ls -l \"$MYPROJECT\"\n",
        "echo \"$MYPROJECT\"> confing.txt"
      ],
      "metadata": {
        "colab": {
          "base_uri": "https://localhost:8080/"
        },
        "id": "W1pFqGPY-t1L",
        "outputId": "a985b5d5-41a6-4784-f8bb-e1433fc2295b"
      },
      "execution_count": 3,
      "outputs": [
        {
          "output_type": "stream",
          "name": "stderr",
          "text": [
            "ls: cannot access '/content/drive/MyDrivr/Colab Notebooks': No such file or directory\n"
          ]
        }
      ]
    },
    {
      "cell_type": "code",
      "source": [
        "import keras\n",
        "from keras.datasets import cifar10\n",
        "(x_train, y_train),(x_test, y_test)=cifar10.load_data()\n",
        "img_width=32\n",
        "img_height = 32\n",
        "NUM_CLASSES = 32\n",
        "cifar10_classes = [\"Aeroplano\", \"Automovil\", \"Ave\", \"Gato\", \"Ciervo\",\"Perro\",\"Sapo\", \"Caballo\", \"Barco\", \"Camion\"]"
      ],
      "metadata": {
        "id": "6-LMJXE1AB-z"
      },
      "execution_count": 10,
      "outputs": []
    },
    {
      "cell_type": "code",
      "source": [
        "print(\"Train:\", x_train.shape, y_train.shape)\n",
        "print(\"Test: \", x_test.shape, y_test.shape)\n",
        "import matplotlib.pyplot as plt\n",
        "img_idx= 8500\n",
        "fig_size_original = plt.rcParams[\"figure.figsize\"]\n",
        "fig_size = fig_size_original.copy()\n",
        "fig_size[0] = 3\n",
        "fig_size[1] = 2\n",
        "plt.rcParams[\"figure.figsize\"]=fig_size\n",
        "plt.imshow(x_train[img_idx], interpolation='nearest')\n",
        "plt.show()\n",
        "classId = y_train[img_idx]\n",
        "print('IMAGEN: ', img_idx)\n",
        "print (\"CLASE ID: \", classId)\n",
        "print(\"CLASE: \", cifar10_classes[classId[0]])"
      ],
      "metadata": {
        "colab": {
          "base_uri": "https://localhost:8080/",
          "height": 304
        },
        "id": "7wZ6rTCoBkOn",
        "outputId": "55ea60b6-ff24-4c98-ac7a-b51ceb279bc2"
      },
      "execution_count": 11,
      "outputs": [
        {
          "output_type": "stream",
          "name": "stdout",
          "text": [
            "Train: (50000, 32, 32, 3) (50000, 1)\n",
            "Test:  (10000, 32, 32, 3) (10000, 1)\n"
          ]
        },
        {
          "output_type": "display_data",
          "data": {
            "text/plain": [
              "<Figure size 300x200 with 1 Axes>"
            ],
            "image/png": "[encoded data removed]"
          },
          "metadata": {}
        },
        {
          "output_type": "stream",
          "name": "stdout",
          "text": [
            "IMAGEN:  8500\n",
            "CLASE ID:  [5]\n",
            "CLASE:  Perro\n"
          ]
        }
      ]
    },
    {
      "cell_type": "code",
      "source": [
        "from keras.utils import to_categorical\n",
        "x_train2 = (x_train /255.0)\n",
        "x_test2 = (x_test/255.0)\n",
        "\n",
        "y_train2 = keras.utils.to_categorical(y_train, NUM_CLASSES)\n",
        "y_test2 = keras.utils.to_categorical(y_test, NUM_CLASSES)\n",
        "print(y_train2[img_idx])\n",
        "print(cifar10_classes)"
      ],
      "metadata": {
        "colab": {
          "base_uri": "https://localhost:8080/"
        },
        "id": "98sq3GSsFoQd",
        "outputId": "68987296-2138-4cd9-aa7e-3c83fb239c30"
      },
      "execution_count": 20,
      "outputs": [
        {
          "output_type": "stream",
          "name": "stdout",
          "text": [
            "[0. 0. 0. 0. 0. 1. 0. 0. 0. 0. 0. 0. 0. 0. 0. 0. 0. 0. 0. 0. 0. 0. 0. 0.\n",
            " 0. 0. 0. 0. 0. 0. 0. 0.]\n",
            "['Aeroplano', 'Automovil', 'Ave', 'Gato', 'Ciervo', 'Perro', 'Sapo', 'Caballo', 'Barco', 'Camion']\n"
          ]
        }
      ]
    },
    {
      "cell_type": "code",
      "source": [
        "num_imgs_training = len(x_train2)\n",
        "num_imgs_testing = len(y_test2)\n",
        "print(\"numero de imagenes de entrenamiento: \", num_imgs_training)\n",
        "print(\"numero de imagenes de testeo: \", num_imgs_testing)"
      ],
      "metadata": {
        "colab": {
          "base_uri": "https://localhost:8080/"
        },
        "id": "Q09MIFqKG7Vt",
        "outputId": "fc533f1f-1d75-4e2b-c1ba-be1455dc55fe"
      },
      "execution_count": 21,
      "outputs": [
        {
          "output_type": "stream",
          "name": "stdout",
          "text": [
            "numero de imagenes de entrenamiento:  50000\n",
            "numero de imagenes de testeo:  10000\n"
          ]
        }
      ]
    },
    {
      "cell_type": "code",
      "source": [
        "from keras.models import Sequential\n",
        "from keras.layers import Conv2D\n",
        "from keras.layers import MaxPooling2D\n",
        "from keras.layers import Flatten\n",
        "from keras.layers import Dense\n",
        "from keras.optimizers import SGD\n",
        "\n",
        "neural_network = Sequential()\n",
        "neural_network.add(Conv2D(32, (3, 3), strides=(1, 1), padding='valid', activation='relu',  input_shape=(img_width, img_height, 3)))\n",
        "neural_network.add(MaxPooling2D(pool_size = (2,2), strides = (2,2), padding= 'valid'))"
      ],
      "metadata": {
        "id": "PkyvUOnZIUqd"
      },
      "execution_count": 26,
      "outputs": []
    }
  ]
}